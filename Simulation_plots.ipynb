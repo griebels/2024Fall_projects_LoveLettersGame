{
 "cells": [
  {
   "metadata": {
    "collapsed": true
   },
   "cell_type": "code",
   "source": [
    "import matplotlib.pyplot as plt\n",
    "from game import *\n",
    "from game_sim import run_the_sim"
   ],
   "id": "initial_id",
   "outputs": [],
   "execution_count": null
  },
  {
   "metadata": {},
   "cell_type": "code",
   "source": [
    "# Set player & strategy list\n",
    "player_list = [\"Player1\", \"Player2\", \"Player3\", \"Player4\", \"Player5\"]\n",
    "strategies = [\"strategy_1\", \"strategy_2\", \"strategy_3\", \"strategy_4\", \"strategy_5\"]\n",
    "\n",
    "win_counts = {player: 0 for player in player_list}\n",
    "tie_count = 0\n",
    "results = []\n",
    "\n",
    "# players = create_players(player_list, strategies)\n",
    "# random.shuffle(players) # shuffle order of players\n",
    "# game = Game(players)"
   ],
   "id": "d97450423612b431",
   "outputs": [],
   "execution_count": null
  },
  {
   "metadata": {},
   "cell_type": "code",
   "source": [
    "# Run 1,000 simulations\n",
    "num_games = 1000\n",
    "for i in range(0, num_games):\n",
    "    players = create_players(player_list, strategies)\n",
    "    random.shuffle(players) # shuffle order of players\n",
    "    game = Game(players)\n",
    "\n",
    "    winner = run_the_sim(game)\n",
    "\n",
    "    if winner in win_counts:\n",
    "        win_counts[winner] += 1\n",
    "        results.append(winner)\n",
    "    elif winner == \"Tie\":\n",
    "        tie_count += 1"
   ],
   "id": "d1401523d439cb38",
   "outputs": [],
   "execution_count": null
  },
  {
   "metadata": {},
   "cell_type": "code",
   "source": [
    "# Plotting for 1,000 simulations (Win Count Bar Chart)\n",
    "\n",
    "player_counts = {player: results.count(player) for player in player_list}\n",
    "\n",
    "plt.figure(figsize=(10, 6))\n",
    "bars = plt.bar(player_counts.keys(), player_counts.values(), color='green', edgecolor='black')\n",
    "\n",
    "for bar in bars:\n",
    "    height = bar.get_height()  \n",
    "    plt.text(bar.get_x() + bar.get_width() / 2, height, str(height), ha='center', va='bottom', fontsize=10)\n",
    "\n",
    "plt.title(\"Monte Carlo Simulation Results - 1,000 Games\")\n",
    "plt.xlabel(\"Players\")\n",
    "plt.ylabel(\"Wins\")\n",
    "plt.xticks(rotation=45)  \n",
    "plt.tight_layout()\n",
    "plt.show()"
   ],
   "id": "a7378485e81097ba",
   "outputs": [],
   "execution_count": null
  },
  {
   "metadata": {},
   "cell_type": "code",
   "source": [
    "# Run for 10,000 simulations\n",
    "\n",
    "#Reset for the new sims\n",
    "game = Game(players)\n",
    "win_counts = {player: 0 for player in player_list}\n",
    "tie_count = 0\n",
    "results = []\n",
    "\n",
    "num_games = 10000\n",
    "for i in range(0, num_games):\n",
    "    players = create_players(player_list, strategies)\n",
    "    random.shuffle(players) # shuffle order of players\n",
    "    game = Game(players)\n",
    "\n",
    "    winner = run_the_sim(game)\n",
    "\n",
    "    if winner in win_counts:\n",
    "        win_counts[winner] += 1\n",
    "        results.append(winner)\n",
    "    elif winner == \"Tie\":\n",
    "        tie_count += 1"
   ],
   "id": "af7b1f14e4dd6f90",
   "outputs": [],
   "execution_count": null
  },
  {
   "metadata": {},
   "cell_type": "code",
   "source": [
    "# Plotting for 10,000 simulations (Win Count Bar Chart)\n",
    "player_counts = {player: results.count(player) for player in player_list}\n",
    "\n",
    "plt.figure(figsize=(10, 6))\n",
    "bars = plt.bar(player_counts.keys(), player_counts.values(), color='green', edgecolor='black')\n",
    "\n",
    "for bar in bars:\n",
    "    height = bar.get_height()  \n",
    "    plt.text(bar.get_x() + bar.get_width() / 2, height, str(height), ha='center', va='bottom', fontsize=10)\n",
    "\n",
    "plt.title(\"Monte Carlo Simulation Results - 10,000 Games\")\n",
    "plt.xlabel(\"Players\")\n",
    "plt.ylabel(\"Wins\")\n",
    "plt.xticks(rotation=45)  \n",
    "plt.tight_layout()\n",
    "plt.show()"
   ],
   "id": "420ec23e7a847381",
   "outputs": [],
   "execution_count": null
  },
  {
   "metadata": {},
   "cell_type": "code",
   "source": [
    "# Run simulation and get win ratio (Convergence Line Graph)\n",
    "# ChatGPT was used for this working out how to show percentage win intervals for the visualization.\n",
    "\n",
    "win_counts = {player: 0 for player in player_list}\n",
    "tie_count = 0\n",
    "intervals = range(10, 10001, 10)  \n",
    "cum_wins = {player: [] for player in player_list}\n",
    "\n",
    "for total_games in range(1, 10001):\n",
    "    players = create_players(player_list, strategies)\n",
    "    random.shuffle(players) # shuffle order of players\n",
    "    game = Game(players)\n",
    "    \n",
    "    winner = run_the_sim(game)\n",
    "    if winner in win_counts:\n",
    "        win_counts[winner] += 1\n",
    "    elif winner == \"Tie\":\n",
    "        tie_count += 1\n",
    "\n",
    "    if total_games in intervals:\n",
    "        for player in player_list:\n",
    "            current_win_percentage = (win_counts[player] / total_games) * 100\n",
    "            cum_wins[player].append(current_win_percentage)"
   ],
   "id": "eac2b176383180cc",
   "outputs": [],
   "execution_count": null
  },
  {
   "metadata": {},
   "cell_type": "code",
   "source": [
    "# Plotting the win ratio convergence\n",
    "\n",
    "plt.figure(figsize=(12, 8))\n",
    "for player in player_list:\n",
    "    # plt.plot(intervals, cum_wins[player], label=player, marker='o')  \n",
    "    plt.plot(intervals, cum_wins[player], label=player) \n",
    "\n",
    "plt.title(\"Cumulative Win Percentage at Intervals of 10 Games\", fontsize=14)\n",
    "plt.xlabel(\"Total Number of Games Played\", fontsize=12)\n",
    "plt.ylabel(\"Win Percentage\", fontsize=12)\n",
    "plt.legend(title=\"Players\", fontsize=10)\n",
    "plt.grid(alpha=0.3)\n",
    "plt.tight_layout()\n",
    "plt.show()"
   ],
   "id": "77e3dc480964d2bb",
   "outputs": [],
   "execution_count": null
  }
 ],
 "metadata": {
  "kernelspec": {
   "display_name": "Python 3",
   "language": "python",
   "name": "python3"
  },
  "language_info": {
   "codemirror_mode": {
    "name": "ipython",
    "version": 2
   },
   "file_extension": ".py",
   "mimetype": "text/x-python",
   "name": "python",
   "nbconvert_exporter": "python",
   "pygments_lexer": "ipython2",
   "version": "2.7.6"
  }
 },
 "nbformat": 4,
 "nbformat_minor": 5
}
